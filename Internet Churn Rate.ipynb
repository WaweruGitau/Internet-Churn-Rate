{
 "cells": [
  {
   "cell_type": "code",
   "execution_count": 1,
   "metadata": {},
   "outputs": [
    {
     "name": "stdout",
     "output_type": "stream",
     "text": [
      "Requirement already satisfied: pyforest in c:\\users\\ian\\anaconda3\\lib\\site-packages (1.1.0)\n"
     ]
    }
   ],
   "source": [
    "!pip install pyforest\n",
    "import pyforest"
   ]
  },
  {
   "cell_type": "code",
   "execution_count": 2,
   "metadata": {},
   "outputs": [
    {
     "data": {
      "application/javascript": [
       "\n",
       "        if (window._pyforest_update_imports_cell) { window._pyforest_update_imports_cell('import pandas as pd'); }\n",
       "    "
      ],
      "text/plain": [
       "<IPython.core.display.Javascript object>"
      ]
     },
     "metadata": {},
     "output_type": "display_data"
    }
   ],
   "source": [
    "Data = pd.read_csv('C://Users//Ian//Desktop//Internet Churn Rate.csv')"
   ]
  },
  {
   "cell_type": "code",
   "execution_count": 3,
   "metadata": {},
   "outputs": [
    {
     "data": {
      "text/html": [
       "<div>\n",
       "<style scoped>\n",
       "    .dataframe tbody tr th:only-of-type {\n",
       "        vertical-align: middle;\n",
       "    }\n",
       "\n",
       "    .dataframe tbody tr th {\n",
       "        vertical-align: top;\n",
       "    }\n",
       "\n",
       "    .dataframe thead th {\n",
       "        text-align: right;\n",
       "    }\n",
       "</style>\n",
       "<table border=\"1\" class=\"dataframe\">\n",
       "  <thead>\n",
       "    <tr style=\"text-align: right;\">\n",
       "      <th></th>\n",
       "      <th>customer_id</th>\n",
       "      <th>age</th>\n",
       "      <th>gender</th>\n",
       "      <th>monthly_payment</th>\n",
       "      <th>contract_length</th>\n",
       "      <th>internet_speed</th>\n",
       "      <th>data_usage</th>\n",
       "      <th>customer_service_calls</th>\n",
       "      <th>customer_satisfaction</th>\n",
       "      <th>churned</th>\n",
       "    </tr>\n",
       "  </thead>\n",
       "  <tbody>\n",
       "    <tr>\n",
       "      <th>0</th>\n",
       "      <td>1</td>\n",
       "      <td>32</td>\n",
       "      <td>Male</td>\n",
       "      <td>3096.85</td>\n",
       "      <td>13</td>\n",
       "      <td>100 Mbps</td>\n",
       "      <td>46.23</td>\n",
       "      <td>1</td>\n",
       "      <td>5</td>\n",
       "      <td>False</td>\n",
       "    </tr>\n",
       "    <tr>\n",
       "      <th>1</th>\n",
       "      <td>2</td>\n",
       "      <td>41</td>\n",
       "      <td>Female</td>\n",
       "      <td>6550.29</td>\n",
       "      <td>8</td>\n",
       "      <td>50 Mbps</td>\n",
       "      <td>4.25</td>\n",
       "      <td>9</td>\n",
       "      <td>5</td>\n",
       "      <td>True</td>\n",
       "    </tr>\n",
       "    <tr>\n",
       "      <th>2</th>\n",
       "      <td>3</td>\n",
       "      <td>81</td>\n",
       "      <td>Non-binary</td>\n",
       "      <td>3473.98</td>\n",
       "      <td>1</td>\n",
       "      <td>50 Mbps</td>\n",
       "      <td>406.74</td>\n",
       "      <td>9</td>\n",
       "      <td>3</td>\n",
       "      <td>True</td>\n",
       "    </tr>\n",
       "    <tr>\n",
       "      <th>3</th>\n",
       "      <td>4</td>\n",
       "      <td>32</td>\n",
       "      <td>Male</td>\n",
       "      <td>8436.81</td>\n",
       "      <td>9</td>\n",
       "      <td>100 Mbps</td>\n",
       "      <td>417.60</td>\n",
       "      <td>6</td>\n",
       "      <td>2</td>\n",
       "      <td>True</td>\n",
       "    </tr>\n",
       "    <tr>\n",
       "      <th>4</th>\n",
       "      <td>5</td>\n",
       "      <td>85</td>\n",
       "      <td>Female</td>\n",
       "      <td>2529.06</td>\n",
       "      <td>20</td>\n",
       "      <td>1 Gbps</td>\n",
       "      <td>598.31</td>\n",
       "      <td>2</td>\n",
       "      <td>2</td>\n",
       "      <td>True</td>\n",
       "    </tr>\n",
       "  </tbody>\n",
       "</table>\n",
       "</div>"
      ],
      "text/plain": [
       "   customer_id  age      gender  monthly_payment  contract_length  \\\n",
       "0            1   32        Male          3096.85               13   \n",
       "1            2   41      Female          6550.29                8   \n",
       "2            3   81  Non-binary          3473.98                1   \n",
       "3            4   32        Male          8436.81                9   \n",
       "4            5   85      Female          2529.06               20   \n",
       "\n",
       "  internet_speed  data_usage  customer_service_calls  customer_satisfaction  \\\n",
       "0       100 Mbps       46.23                       1                      5   \n",
       "1        50 Mbps        4.25                       9                      5   \n",
       "2        50 Mbps      406.74                       9                      3   \n",
       "3       100 Mbps      417.60                       6                      2   \n",
       "4         1 Gbps      598.31                       2                      2   \n",
       "\n",
       "   churned  \n",
       "0    False  \n",
       "1     True  \n",
       "2     True  \n",
       "3     True  \n",
       "4     True  "
      ]
     },
     "execution_count": 3,
     "metadata": {},
     "output_type": "execute_result"
    }
   ],
   "source": [
    "Data.head()"
   ]
  },
  {
   "cell_type": "code",
   "execution_count": 4,
   "metadata": {},
   "outputs": [
    {
     "data": {
      "text/plain": [
       "customer_id               0\n",
       "age                       0\n",
       "gender                    0\n",
       "monthly_payment           0\n",
       "contract_length           0\n",
       "internet_speed            0\n",
       "data_usage                0\n",
       "customer_service_calls    0\n",
       "customer_satisfaction     0\n",
       "churned                   0\n",
       "dtype: int64"
      ]
     },
     "execution_count": 4,
     "metadata": {},
     "output_type": "execute_result"
    }
   ],
   "source": [
    "# Data Preprocessing\n",
    "#check for null values\n",
    "Data.isnull().sum()"
   ]
  },
  {
   "cell_type": "code",
   "execution_count": 5,
   "metadata": {},
   "outputs": [
    {
     "data": {
      "text/plain": [
       "gender\n",
       "Female         275\n",
       "Male           264\n",
       "Genderqueer     13\n",
       "Non-binary      12\n",
       "Polygender      12\n",
       "Agender          8\n",
       "Genderfluid      8\n",
       "Bigender         8\n",
       "Name: count, dtype: int64"
      ]
     },
     "execution_count": 5,
     "metadata": {},
     "output_type": "execute_result"
    }
   ],
   "source": [
    "Data.gender.value_counts()"
   ]
  },
  {
   "cell_type": "code",
   "execution_count": 6,
   "metadata": {},
   "outputs": [],
   "source": [
    "# Dropping other gender\n",
    "df = Data[(Data['gender'] == 'Male')| (Data['gender'] == 'Female')]\n",
    "# Resetting the index\n",
    "df.reset_index(drop=True, inplace=True)"
   ]
  },
  {
   "cell_type": "code",
   "execution_count": 7,
   "metadata": {},
   "outputs": [
    {
     "data": {
      "text/html": [
       "<div>\n",
       "<style scoped>\n",
       "    .dataframe tbody tr th:only-of-type {\n",
       "        vertical-align: middle;\n",
       "    }\n",
       "\n",
       "    .dataframe tbody tr th {\n",
       "        vertical-align: top;\n",
       "    }\n",
       "\n",
       "    .dataframe thead th {\n",
       "        text-align: right;\n",
       "    }\n",
       "</style>\n",
       "<table border=\"1\" class=\"dataframe\">\n",
       "  <thead>\n",
       "    <tr style=\"text-align: right;\">\n",
       "      <th></th>\n",
       "      <th>customer_id</th>\n",
       "      <th>age</th>\n",
       "      <th>gender</th>\n",
       "      <th>monthly_payment</th>\n",
       "      <th>contract_length</th>\n",
       "      <th>internet_speed</th>\n",
       "      <th>data_usage</th>\n",
       "      <th>customer_service_calls</th>\n",
       "      <th>customer_satisfaction</th>\n",
       "      <th>churned</th>\n",
       "    </tr>\n",
       "  </thead>\n",
       "  <tbody>\n",
       "    <tr>\n",
       "      <th>0</th>\n",
       "      <td>1</td>\n",
       "      <td>32</td>\n",
       "      <td>Male</td>\n",
       "      <td>3096.85</td>\n",
       "      <td>13</td>\n",
       "      <td>100 Mbps</td>\n",
       "      <td>46.23</td>\n",
       "      <td>1</td>\n",
       "      <td>5</td>\n",
       "      <td>False</td>\n",
       "    </tr>\n",
       "    <tr>\n",
       "      <th>1</th>\n",
       "      <td>2</td>\n",
       "      <td>41</td>\n",
       "      <td>Female</td>\n",
       "      <td>6550.29</td>\n",
       "      <td>8</td>\n",
       "      <td>50 Mbps</td>\n",
       "      <td>4.25</td>\n",
       "      <td>9</td>\n",
       "      <td>5</td>\n",
       "      <td>True</td>\n",
       "    </tr>\n",
       "    <tr>\n",
       "      <th>2</th>\n",
       "      <td>4</td>\n",
       "      <td>32</td>\n",
       "      <td>Male</td>\n",
       "      <td>8436.81</td>\n",
       "      <td>9</td>\n",
       "      <td>100 Mbps</td>\n",
       "      <td>417.60</td>\n",
       "      <td>6</td>\n",
       "      <td>2</td>\n",
       "      <td>True</td>\n",
       "    </tr>\n",
       "    <tr>\n",
       "      <th>3</th>\n",
       "      <td>5</td>\n",
       "      <td>85</td>\n",
       "      <td>Female</td>\n",
       "      <td>2529.06</td>\n",
       "      <td>20</td>\n",
       "      <td>1 Gbps</td>\n",
       "      <td>598.31</td>\n",
       "      <td>2</td>\n",
       "      <td>2</td>\n",
       "      <td>True</td>\n",
       "    </tr>\n",
       "    <tr>\n",
       "      <th>4</th>\n",
       "      <td>6</td>\n",
       "      <td>66</td>\n",
       "      <td>Female</td>\n",
       "      <td>874.34</td>\n",
       "      <td>8</td>\n",
       "      <td>100 Mbps</td>\n",
       "      <td>671.64</td>\n",
       "      <td>7</td>\n",
       "      <td>2</td>\n",
       "      <td>True</td>\n",
       "    </tr>\n",
       "  </tbody>\n",
       "</table>\n",
       "</div>"
      ],
      "text/plain": [
       "   customer_id  age  gender  monthly_payment  contract_length internet_speed  \\\n",
       "0            1   32    Male          3096.85               13       100 Mbps   \n",
       "1            2   41  Female          6550.29                8        50 Mbps   \n",
       "2            4   32    Male          8436.81                9       100 Mbps   \n",
       "3            5   85  Female          2529.06               20         1 Gbps   \n",
       "4            6   66  Female           874.34                8       100 Mbps   \n",
       "\n",
       "   data_usage  customer_service_calls  customer_satisfaction  churned  \n",
       "0       46.23                       1                      5    False  \n",
       "1        4.25                       9                      5     True  \n",
       "2      417.60                       6                      2     True  \n",
       "3      598.31                       2                      2     True  \n",
       "4      671.64                       7                      2     True  "
      ]
     },
     "execution_count": 7,
     "metadata": {},
     "output_type": "execute_result"
    }
   ],
   "source": [
    "df.head()"
   ]
  },
  {
   "cell_type": "code",
   "execution_count": 8,
   "metadata": {},
   "outputs": [
    {
     "data": {
      "text/plain": [
       "gender\n",
       "Female    275\n",
       "Male      264\n",
       "Name: count, dtype: int64"
      ]
     },
     "execution_count": 8,
     "metadata": {},
     "output_type": "execute_result"
    }
   ],
   "source": [
    "df.gender.value_counts()"
   ]
  },
  {
   "cell_type": "code",
   "execution_count": 9,
   "metadata": {},
   "outputs": [
    {
     "name": "stdout",
     "output_type": "stream",
     "text": [
      "<class 'pandas.core.frame.DataFrame'>\n",
      "RangeIndex: 539 entries, 0 to 538\n",
      "Data columns (total 10 columns):\n",
      " #   Column                  Non-Null Count  Dtype  \n",
      "---  ------                  --------------  -----  \n",
      " 0   customer_id             539 non-null    int64  \n",
      " 1   age                     539 non-null    int64  \n",
      " 2   gender                  539 non-null    object \n",
      " 3   monthly_payment         539 non-null    float64\n",
      " 4   contract_length         539 non-null    int64  \n",
      " 5   internet_speed          539 non-null    object \n",
      " 6   data_usage              539 non-null    float64\n",
      " 7   customer_service_calls  539 non-null    int64  \n",
      " 8   customer_satisfaction   539 non-null    int64  \n",
      " 9   churned                 539 non-null    bool   \n",
      "dtypes: bool(1), float64(2), int64(5), object(2)\n",
      "memory usage: 38.5+ KB\n"
     ]
    }
   ],
   "source": [
    "df.info()"
   ]
  },
  {
   "cell_type": "code",
   "execution_count": 10,
   "metadata": {
    "scrolled": false
   },
   "outputs": [],
   "source": [
    "df = df.drop(['customer_id'], axis = 1)\n"
   ]
  },
  {
   "cell_type": "code",
   "execution_count": 11,
   "metadata": {},
   "outputs": [
    {
     "name": "stdout",
     "output_type": "stream",
     "text": [
      "<class 'pandas.core.frame.DataFrame'>\n",
      "RangeIndex: 539 entries, 0 to 538\n",
      "Data columns (total 9 columns):\n",
      " #   Column                  Non-Null Count  Dtype  \n",
      "---  ------                  --------------  -----  \n",
      " 0   age                     539 non-null    int64  \n",
      " 1   gender                  539 non-null    object \n",
      " 2   monthly_payment         539 non-null    float64\n",
      " 3   contract_length         539 non-null    int64  \n",
      " 4   internet_speed          539 non-null    object \n",
      " 5   data_usage              539 non-null    float64\n",
      " 6   customer_service_calls  539 non-null    int64  \n",
      " 7   customer_satisfaction   539 non-null    int64  \n",
      " 8   churned                 539 non-null    bool   \n",
      "dtypes: bool(1), float64(2), int64(4), object(2)\n",
      "memory usage: 34.3+ KB\n"
     ]
    }
   ],
   "source": [
    "df.info()"
   ]
  },
  {
   "cell_type": "code",
   "execution_count": 12,
   "metadata": {},
   "outputs": [],
   "source": [
    "from sklearn.preprocessing import LabelEncoder\n",
    "le = LabelEncoder()\n",
    "def preprocessing_data(data):\n",
    "   \n",
    "    # Label Encoding\n",
    "    df['gender'] = le.fit_transform(df['gender'])\n",
    "    df['churned'] = le.fit_transform(df['churned'])\n",
    "        \n",
    "    return df  "
   ]
  },
  {
   "cell_type": "code",
   "execution_count": 13,
   "metadata": {},
   "outputs": [
    {
     "data": {
      "text/html": [
       "<div>\n",
       "<style scoped>\n",
       "    .dataframe tbody tr th:only-of-type {\n",
       "        vertical-align: middle;\n",
       "    }\n",
       "\n",
       "    .dataframe tbody tr th {\n",
       "        vertical-align: top;\n",
       "    }\n",
       "\n",
       "    .dataframe thead th {\n",
       "        text-align: right;\n",
       "    }\n",
       "</style>\n",
       "<table border=\"1\" class=\"dataframe\">\n",
       "  <thead>\n",
       "    <tr style=\"text-align: right;\">\n",
       "      <th></th>\n",
       "      <th>age</th>\n",
       "      <th>gender</th>\n",
       "      <th>monthly_payment</th>\n",
       "      <th>contract_length</th>\n",
       "      <th>internet_speed</th>\n",
       "      <th>data_usage</th>\n",
       "      <th>customer_service_calls</th>\n",
       "      <th>customer_satisfaction</th>\n",
       "      <th>churned</th>\n",
       "    </tr>\n",
       "  </thead>\n",
       "  <tbody>\n",
       "    <tr>\n",
       "      <th>0</th>\n",
       "      <td>32</td>\n",
       "      <td>1</td>\n",
       "      <td>3096.85</td>\n",
       "      <td>13</td>\n",
       "      <td>100 Mbps</td>\n",
       "      <td>46.23</td>\n",
       "      <td>1</td>\n",
       "      <td>5</td>\n",
       "      <td>0</td>\n",
       "    </tr>\n",
       "    <tr>\n",
       "      <th>1</th>\n",
       "      <td>41</td>\n",
       "      <td>0</td>\n",
       "      <td>6550.29</td>\n",
       "      <td>8</td>\n",
       "      <td>50 Mbps</td>\n",
       "      <td>4.25</td>\n",
       "      <td>9</td>\n",
       "      <td>5</td>\n",
       "      <td>1</td>\n",
       "    </tr>\n",
       "    <tr>\n",
       "      <th>2</th>\n",
       "      <td>32</td>\n",
       "      <td>1</td>\n",
       "      <td>8436.81</td>\n",
       "      <td>9</td>\n",
       "      <td>100 Mbps</td>\n",
       "      <td>417.60</td>\n",
       "      <td>6</td>\n",
       "      <td>2</td>\n",
       "      <td>1</td>\n",
       "    </tr>\n",
       "    <tr>\n",
       "      <th>3</th>\n",
       "      <td>85</td>\n",
       "      <td>0</td>\n",
       "      <td>2529.06</td>\n",
       "      <td>20</td>\n",
       "      <td>1 Gbps</td>\n",
       "      <td>598.31</td>\n",
       "      <td>2</td>\n",
       "      <td>2</td>\n",
       "      <td>1</td>\n",
       "    </tr>\n",
       "    <tr>\n",
       "      <th>4</th>\n",
       "      <td>66</td>\n",
       "      <td>0</td>\n",
       "      <td>874.34</td>\n",
       "      <td>8</td>\n",
       "      <td>100 Mbps</td>\n",
       "      <td>671.64</td>\n",
       "      <td>7</td>\n",
       "      <td>2</td>\n",
       "      <td>1</td>\n",
       "    </tr>\n",
       "    <tr>\n",
       "      <th>...</th>\n",
       "      <td>...</td>\n",
       "      <td>...</td>\n",
       "      <td>...</td>\n",
       "      <td>...</td>\n",
       "      <td>...</td>\n",
       "      <td>...</td>\n",
       "      <td>...</td>\n",
       "      <td>...</td>\n",
       "      <td>...</td>\n",
       "    </tr>\n",
       "    <tr>\n",
       "      <th>534</th>\n",
       "      <td>66</td>\n",
       "      <td>0</td>\n",
       "      <td>6388.42</td>\n",
       "      <td>12</td>\n",
       "      <td>50 Mbps</td>\n",
       "      <td>943.37</td>\n",
       "      <td>4</td>\n",
       "      <td>1</td>\n",
       "      <td>0</td>\n",
       "    </tr>\n",
       "    <tr>\n",
       "      <th>535</th>\n",
       "      <td>59</td>\n",
       "      <td>0</td>\n",
       "      <td>9781.56</td>\n",
       "      <td>15</td>\n",
       "      <td>10 Mbps</td>\n",
       "      <td>196.49</td>\n",
       "      <td>9</td>\n",
       "      <td>4</td>\n",
       "      <td>1</td>\n",
       "    </tr>\n",
       "    <tr>\n",
       "      <th>536</th>\n",
       "      <td>32</td>\n",
       "      <td>0</td>\n",
       "      <td>1150.09</td>\n",
       "      <td>3</td>\n",
       "      <td>100 Mbps</td>\n",
       "      <td>897.13</td>\n",
       "      <td>1</td>\n",
       "      <td>2</td>\n",
       "      <td>0</td>\n",
       "    </tr>\n",
       "    <tr>\n",
       "      <th>537</th>\n",
       "      <td>18</td>\n",
       "      <td>1</td>\n",
       "      <td>8555.63</td>\n",
       "      <td>7</td>\n",
       "      <td>50 Mbps</td>\n",
       "      <td>745.87</td>\n",
       "      <td>3</td>\n",
       "      <td>5</td>\n",
       "      <td>1</td>\n",
       "    </tr>\n",
       "    <tr>\n",
       "      <th>538</th>\n",
       "      <td>37</td>\n",
       "      <td>1</td>\n",
       "      <td>2421.95</td>\n",
       "      <td>23</td>\n",
       "      <td>10 Mbps</td>\n",
       "      <td>2.94</td>\n",
       "      <td>8</td>\n",
       "      <td>5</td>\n",
       "      <td>1</td>\n",
       "    </tr>\n",
       "  </tbody>\n",
       "</table>\n",
       "<p>539 rows × 9 columns</p>\n",
       "</div>"
      ],
      "text/plain": [
       "     age  gender  monthly_payment  contract_length internet_speed  data_usage  \\\n",
       "0     32       1          3096.85               13       100 Mbps       46.23   \n",
       "1     41       0          6550.29                8        50 Mbps        4.25   \n",
       "2     32       1          8436.81                9       100 Mbps      417.60   \n",
       "3     85       0          2529.06               20         1 Gbps      598.31   \n",
       "4     66       0           874.34                8       100 Mbps      671.64   \n",
       "..   ...     ...              ...              ...            ...         ...   \n",
       "534   66       0          6388.42               12        50 Mbps      943.37   \n",
       "535   59       0          9781.56               15        10 Mbps      196.49   \n",
       "536   32       0          1150.09                3       100 Mbps      897.13   \n",
       "537   18       1          8555.63                7        50 Mbps      745.87   \n",
       "538   37       1          2421.95               23        10 Mbps        2.94   \n",
       "\n",
       "     customer_service_calls  customer_satisfaction  churned  \n",
       "0                         1                      5        0  \n",
       "1                         9                      5        1  \n",
       "2                         6                      2        1  \n",
       "3                         2                      2        1  \n",
       "4                         7                      2        1  \n",
       "..                      ...                    ...      ...  \n",
       "534                       4                      1        0  \n",
       "535                       9                      4        1  \n",
       "536                       1                      2        0  \n",
       "537                       3                      5        1  \n",
       "538                       8                      5        1  \n",
       "\n",
       "[539 rows x 9 columns]"
      ]
     },
     "execution_count": 13,
     "metadata": {},
     "output_type": "execute_result"
    }
   ],
   "source": [
    "preprocessing_data(data = df)"
   ]
  },
  {
   "cell_type": "code",
   "execution_count": 14,
   "metadata": {
    "scrolled": true
   },
   "outputs": [],
   "source": [
    "# Define a function to convert values with 'Gbps' to Mbps\n",
    "def convert_to_mbps(value):\n",
    "    if 'Gbps' in value:\n",
    "        return float(value.replace(' Gbps', '')) * 1000\n",
    "    elif 'Mbps' in value:\n",
    "        return float(value.replace(' Mbps', ''))\n",
    "    else:\n",
    "        return None  # Handle values without units as needed\n",
    "\n",
    "# Apply the conversion function to the 'column_name' column\n",
    "df['internet_speed(mbps)'] = df['internet_speed'].apply(convert_to_mbps)\n"
   ]
  },
  {
   "cell_type": "code",
   "execution_count": 15,
   "metadata": {},
   "outputs": [
    {
     "data": {
      "text/plain": [
       "0       100.0\n",
       "1        50.0\n",
       "2       100.0\n",
       "3      1000.0\n",
       "4       100.0\n",
       "        ...  \n",
       "534      50.0\n",
       "535      10.0\n",
       "536     100.0\n",
       "537      50.0\n",
       "538      10.0\n",
       "Name: internet_speed(mbps), Length: 539, dtype: float64"
      ]
     },
     "execution_count": 15,
     "metadata": {},
     "output_type": "execute_result"
    }
   ],
   "source": [
    "df['internet_speed(mbps)'] "
   ]
  },
  {
   "cell_type": "code",
   "execution_count": 22,
   "metadata": {
    "scrolled": false
   },
   "outputs": [],
   "source": [
    "df = df.drop(['internet_speed'], axis = 1)"
   ]
  },
  {
   "cell_type": "code",
   "execution_count": 23,
   "metadata": {},
   "outputs": [
    {
     "data": {
      "text/html": [
       "<div>\n",
       "<style scoped>\n",
       "    .dataframe tbody tr th:only-of-type {\n",
       "        vertical-align: middle;\n",
       "    }\n",
       "\n",
       "    .dataframe tbody tr th {\n",
       "        vertical-align: top;\n",
       "    }\n",
       "\n",
       "    .dataframe thead th {\n",
       "        text-align: right;\n",
       "    }\n",
       "</style>\n",
       "<table border=\"1\" class=\"dataframe\">\n",
       "  <thead>\n",
       "    <tr style=\"text-align: right;\">\n",
       "      <th></th>\n",
       "      <th>age</th>\n",
       "      <th>gender</th>\n",
       "      <th>monthly_payment</th>\n",
       "      <th>contract_length</th>\n",
       "      <th>data_usage</th>\n",
       "      <th>customer_service_calls</th>\n",
       "      <th>customer_satisfaction</th>\n",
       "      <th>churned</th>\n",
       "      <th>internet_speed(mbps)</th>\n",
       "    </tr>\n",
       "  </thead>\n",
       "  <tbody>\n",
       "    <tr>\n",
       "      <th>0</th>\n",
       "      <td>32</td>\n",
       "      <td>1</td>\n",
       "      <td>3096.85</td>\n",
       "      <td>13</td>\n",
       "      <td>46.23</td>\n",
       "      <td>1</td>\n",
       "      <td>5</td>\n",
       "      <td>0</td>\n",
       "      <td>100.0</td>\n",
       "    </tr>\n",
       "    <tr>\n",
       "      <th>1</th>\n",
       "      <td>41</td>\n",
       "      <td>0</td>\n",
       "      <td>6550.29</td>\n",
       "      <td>8</td>\n",
       "      <td>4.25</td>\n",
       "      <td>9</td>\n",
       "      <td>5</td>\n",
       "      <td>1</td>\n",
       "      <td>50.0</td>\n",
       "    </tr>\n",
       "    <tr>\n",
       "      <th>2</th>\n",
       "      <td>32</td>\n",
       "      <td>1</td>\n",
       "      <td>8436.81</td>\n",
       "      <td>9</td>\n",
       "      <td>417.60</td>\n",
       "      <td>6</td>\n",
       "      <td>2</td>\n",
       "      <td>1</td>\n",
       "      <td>100.0</td>\n",
       "    </tr>\n",
       "    <tr>\n",
       "      <th>3</th>\n",
       "      <td>85</td>\n",
       "      <td>0</td>\n",
       "      <td>2529.06</td>\n",
       "      <td>20</td>\n",
       "      <td>598.31</td>\n",
       "      <td>2</td>\n",
       "      <td>2</td>\n",
       "      <td>1</td>\n",
       "      <td>1000.0</td>\n",
       "    </tr>\n",
       "    <tr>\n",
       "      <th>4</th>\n",
       "      <td>66</td>\n",
       "      <td>0</td>\n",
       "      <td>874.34</td>\n",
       "      <td>8</td>\n",
       "      <td>671.64</td>\n",
       "      <td>7</td>\n",
       "      <td>2</td>\n",
       "      <td>1</td>\n",
       "      <td>100.0</td>\n",
       "    </tr>\n",
       "  </tbody>\n",
       "</table>\n",
       "</div>"
      ],
      "text/plain": [
       "   age  gender  monthly_payment  contract_length  data_usage  \\\n",
       "0   32       1          3096.85               13       46.23   \n",
       "1   41       0          6550.29                8        4.25   \n",
       "2   32       1          8436.81                9      417.60   \n",
       "3   85       0          2529.06               20      598.31   \n",
       "4   66       0           874.34                8      671.64   \n",
       "\n",
       "   customer_service_calls  customer_satisfaction  churned  \\\n",
       "0                       1                      5        0   \n",
       "1                       9                      5        1   \n",
       "2                       6                      2        1   \n",
       "3                       2                      2        1   \n",
       "4                       7                      2        1   \n",
       "\n",
       "   internet_speed(mbps)  \n",
       "0                 100.0  \n",
       "1                  50.0  \n",
       "2                 100.0  \n",
       "3                1000.0  \n",
       "4                 100.0  "
      ]
     },
     "execution_count": 23,
     "metadata": {},
     "output_type": "execute_result"
    }
   ],
   "source": [
    "df.head()"
   ]
  },
  {
   "cell_type": "code",
   "execution_count": 17,
   "metadata": {},
   "outputs": [
    {
     "name": "stdout",
     "output_type": "stream",
     "text": [
      "<class 'pandas.core.frame.DataFrame'>\n",
      "RangeIndex: 539 entries, 0 to 538\n",
      "Data columns (total 10 columns):\n",
      " #   Column                  Non-Null Count  Dtype  \n",
      "---  ------                  --------------  -----  \n",
      " 0   age                     539 non-null    int64  \n",
      " 1   gender                  539 non-null    int32  \n",
      " 2   monthly_payment         539 non-null    float64\n",
      " 3   contract_length         539 non-null    int64  \n",
      " 4   internet_speed          539 non-null    object \n",
      " 5   data_usage              539 non-null    float64\n",
      " 6   customer_service_calls  539 non-null    int64  \n",
      " 7   customer_satisfaction   539 non-null    int64  \n",
      " 8   churned                 539 non-null    int64  \n",
      " 9   internet_speed(mbps)    539 non-null    float64\n",
      "dtypes: float64(3), int32(1), int64(5), object(1)\n",
      "memory usage: 40.1+ KB\n"
     ]
    }
   ],
   "source": [
    "df.info()"
   ]
  },
  {
   "cell_type": "code",
   "execution_count": 24,
   "metadata": {},
   "outputs": [],
   "source": [
    "# splitting the dataset\n",
    "x = df.drop(['churned'], axis =1)\n",
    "y = df['churned']\n",
    "\n",
    "from sklearn.model_selection import train_test_split\n",
    "x_train , x_test, y_train, y_test = train_test_split(x, y,\n",
    "                                                   test_size = 0.2, random_state = 42)"
   ]
  },
  {
   "cell_type": "code",
   "execution_count": 25,
   "metadata": {},
   "outputs": [
    {
     "data": {
      "text/html": [
       "<div>\n",
       "<style scoped>\n",
       "    .dataframe tbody tr th:only-of-type {\n",
       "        vertical-align: middle;\n",
       "    }\n",
       "\n",
       "    .dataframe tbody tr th {\n",
       "        vertical-align: top;\n",
       "    }\n",
       "\n",
       "    .dataframe thead th {\n",
       "        text-align: right;\n",
       "    }\n",
       "</style>\n",
       "<table border=\"1\" class=\"dataframe\">\n",
       "  <thead>\n",
       "    <tr style=\"text-align: right;\">\n",
       "      <th></th>\n",
       "      <th>age</th>\n",
       "      <th>gender</th>\n",
       "      <th>monthly_payment</th>\n",
       "      <th>contract_length</th>\n",
       "      <th>data_usage</th>\n",
       "      <th>customer_service_calls</th>\n",
       "      <th>customer_satisfaction</th>\n",
       "      <th>internet_speed(mbps)</th>\n",
       "    </tr>\n",
       "  </thead>\n",
       "  <tbody>\n",
       "    <tr>\n",
       "      <th>0</th>\n",
       "      <td>32</td>\n",
       "      <td>1</td>\n",
       "      <td>3096.85</td>\n",
       "      <td>13</td>\n",
       "      <td>46.23</td>\n",
       "      <td>1</td>\n",
       "      <td>5</td>\n",
       "      <td>100.0</td>\n",
       "    </tr>\n",
       "    <tr>\n",
       "      <th>1</th>\n",
       "      <td>41</td>\n",
       "      <td>0</td>\n",
       "      <td>6550.29</td>\n",
       "      <td>8</td>\n",
       "      <td>4.25</td>\n",
       "      <td>9</td>\n",
       "      <td>5</td>\n",
       "      <td>50.0</td>\n",
       "    </tr>\n",
       "    <tr>\n",
       "      <th>2</th>\n",
       "      <td>32</td>\n",
       "      <td>1</td>\n",
       "      <td>8436.81</td>\n",
       "      <td>9</td>\n",
       "      <td>417.60</td>\n",
       "      <td>6</td>\n",
       "      <td>2</td>\n",
       "      <td>100.0</td>\n",
       "    </tr>\n",
       "    <tr>\n",
       "      <th>3</th>\n",
       "      <td>85</td>\n",
       "      <td>0</td>\n",
       "      <td>2529.06</td>\n",
       "      <td>20</td>\n",
       "      <td>598.31</td>\n",
       "      <td>2</td>\n",
       "      <td>2</td>\n",
       "      <td>1000.0</td>\n",
       "    </tr>\n",
       "    <tr>\n",
       "      <th>4</th>\n",
       "      <td>66</td>\n",
       "      <td>0</td>\n",
       "      <td>874.34</td>\n",
       "      <td>8</td>\n",
       "      <td>671.64</td>\n",
       "      <td>7</td>\n",
       "      <td>2</td>\n",
       "      <td>100.0</td>\n",
       "    </tr>\n",
       "  </tbody>\n",
       "</table>\n",
       "</div>"
      ],
      "text/plain": [
       "   age  gender  monthly_payment  contract_length  data_usage  \\\n",
       "0   32       1          3096.85               13       46.23   \n",
       "1   41       0          6550.29                8        4.25   \n",
       "2   32       1          8436.81                9      417.60   \n",
       "3   85       0          2529.06               20      598.31   \n",
       "4   66       0           874.34                8      671.64   \n",
       "\n",
       "   customer_service_calls  customer_satisfaction  internet_speed(mbps)  \n",
       "0                       1                      5                 100.0  \n",
       "1                       9                      5                  50.0  \n",
       "2                       6                      2                 100.0  \n",
       "3                       2                      2                1000.0  \n",
       "4                       7                      2                 100.0  "
      ]
     },
     "execution_count": 25,
     "metadata": {},
     "output_type": "execute_result"
    }
   ],
   "source": [
    "x.head()"
   ]
  },
  {
   "cell_type": "code",
   "execution_count": 26,
   "metadata": {
    "scrolled": true
   },
   "outputs": [
    {
     "data": {
      "text/plain": [
       "RandomForestRegressor(n_estimators=300, random_state=0)"
      ]
     },
     "execution_count": 26,
     "metadata": {},
     "output_type": "execute_result"
    }
   ],
   "source": [
    "from sklearn.ensemble import RandomForestRegressor as RF\n",
    "regressor = RF(n_estimators = 300, random_state = 0)\n",
    "regressor.fit(x_train, y_train)"
   ]
  },
  {
   "cell_type": "code",
   "execution_count": 27,
   "metadata": {},
   "outputs": [],
   "source": [
    "#predicting \n",
    "y_pred = regressor.predict(x_test)"
   ]
  },
  {
   "cell_type": "code",
   "execution_count": 28,
   "metadata": {
    "scrolled": true
   },
   "outputs": [
    {
     "data": {
      "text/plain": [
       "array([0.48      , 0.50333333, 0.49      , 0.47333333, 0.63666667,\n",
       "       0.7       , 0.4       , 0.64666667, 0.55666667, 0.55      ,\n",
       "       0.67      , 0.69666667, 0.48333333, 0.50333333, 0.54      ,\n",
       "       0.22666667, 0.41333333, 0.63333333, 0.5       , 0.71666667,\n",
       "       0.44333333, 0.41333333, 0.52      , 0.36      , 0.63      ,\n",
       "       0.57666667, 0.70333333, 0.45      , 0.34666667, 0.55      ,\n",
       "       0.61      , 0.62666667, 0.54666667, 0.20666667, 0.68      ,\n",
       "       0.31666667, 0.35      , 0.54333333, 0.48333333, 0.55666667,\n",
       "       0.58      , 0.69333333, 0.53      , 0.54      , 0.48666667,\n",
       "       0.55666667, 0.45666667, 0.76666667, 0.34666667, 0.69      ,\n",
       "       0.37666667, 0.25333333, 0.27666667, 0.50666667, 0.47333333,\n",
       "       0.38666667, 0.39      , 0.60666667, 0.53      , 0.59666667,\n",
       "       0.53666667, 0.58      , 0.50333333, 0.36333333, 0.69333333,\n",
       "       0.61      , 0.63      , 0.73333333, 0.48666667, 0.42      ,\n",
       "       0.66      , 0.43      , 0.52      , 0.31333333, 0.59333333,\n",
       "       0.62666667, 0.69333333, 0.55      , 0.56333333, 0.4       ,\n",
       "       0.37666667, 0.57      , 0.69      , 0.57666667, 0.4       ,\n",
       "       0.38      , 0.62666667, 0.56      , 0.69333333, 0.44666667,\n",
       "       0.38666667, 0.60666667, 0.46      , 0.49666667, 0.35333333,\n",
       "       0.39      , 0.49333333, 0.57      , 0.62666667, 0.37      ,\n",
       "       0.52333333, 0.71333333, 0.60333333, 0.64333333, 0.72      ,\n",
       "       0.49333333, 0.34666667, 0.70666667])"
      ]
     },
     "execution_count": 28,
     "metadata": {},
     "output_type": "execute_result"
    }
   ],
   "source": [
    "y_pred"
   ]
  },
  {
   "cell_type": "code",
   "execution_count": null,
   "metadata": {},
   "outputs": [],
   "source": []
  }
 ],
 "metadata": {
  "kernelspec": {
   "display_name": "Python 3",
   "language": "python",
   "name": "python3"
  },
  "language_info": {
   "codemirror_mode": {
    "name": "ipython",
    "version": 3
   },
   "file_extension": ".py",
   "mimetype": "text/x-python",
   "name": "python",
   "nbconvert_exporter": "python",
   "pygments_lexer": "ipython3",
   "version": "3.8.5"
  }
 },
 "nbformat": 4,
 "nbformat_minor": 4
}
